{
 "cells": [
  {
   "cell_type": "code",
   "execution_count": 1,
   "metadata": {},
   "outputs": [],
   "source": [
    "# Useful starting lines\n",
    "%matplotlib inline\n",
    "import numpy as np\n",
    "import matplotlib.pyplot as plt\n",
    "%load_ext autoreload\n",
    "%autoreload 2\n",
    "\n",
    "# Import lab 2\n",
    "import sys\n",
    "sys.path.append('../../ex02/template/')"
   ]
  },
  {
   "cell_type": "markdown",
   "metadata": {},
   "source": [
    "# 1 Least squares and linear basis functions models\n",
    "## 1.1 Least squares"
   ]
  },
  {
   "cell_type": "code",
   "execution_count": 2,
   "metadata": {
    "collapsed": true
   },
   "outputs": [],
   "source": [
    "from costs import compute_loss\n",
    "\n",
    "def least_squares(y, tx):\n",
    "    \"\"\"Calculate the least squares solution.\"\"\"\n",
    "    w = np.linalg.inv(tx.T.dot(tx)).dot(tx.T).dot(y)\n",
    "    return compute_loss(y, tx, w, error_type='mse'), w"
   ]
  },
  {
   "cell_type": "markdown",
   "metadata": {},
   "source": [
    "### Load the data\n",
    "Here we will reuse the dataset `height_weight_genders.csv` from previous exercise section to check the correctness of your implementation. Please compare it with your previous result."
   ]
  },
  {
   "cell_type": "code",
   "execution_count": 175,
   "metadata": {
    "collapsed": true
   },
   "outputs": [],
   "source": [
    "from helpers import *\n",
    "from gradient_descent import gradient_descent\n",
    "\n",
    "def test_your_least_squares():\n",
    "    height, weight, gender = load_data_from_ex02(sub_sample=False, add_outlier=False)\n",
    "    x, mean_x, std_x = standardize(height)\n",
    "    y, tx = build_model_data(x, weight)\n",
    "    \n",
    "    # Perform least square\n",
    "    ls_result = least_squares(y, tx)\n",
    "    \n",
    "    # Perform gradient descent\n",
    "    gd_result = gradient_descent(y, tx, [0, 0], 50, 0.7, error_type='mse')\n",
    "    \n",
    "    # Print results\n",
    "    print('Least square: w = {0} with loss {1}'.format(ls_result[1], ls_result[0]))\n",
    "    print('Gradient descent: w = {0} with loss {1}'.format(gd_result[1][-1], gd_result[0][-1]))"
   ]
  },
  {
   "cell_type": "markdown",
   "metadata": {},
   "source": [
    "Test it here"
   ]
  },
  {
   "cell_type": "code",
   "execution_count": 176,
   "metadata": {},
   "outputs": [
    {
     "name": "stdout",
     "output_type": "stream",
     "text": [
      "Gradient Descent(0/49): loss=2792.236712759167, w0=51.305745401473324, w1=9.435798704492441\n",
      "Gradient Descent(1/49): loss=265.3024621089662, w0=66.69746902191562, w1=12.266538315840048\n",
      "Gradient Descent(2/49): loss=37.878379550441785, w0=71.31498610804832, w1=13.115760199244336\n",
      "Gradient Descent(3/49): loss=17.410212120174524, w0=72.70024123388814, w1=13.370526764265632\n",
      "Gradient Descent(4/49): loss=15.568077051450459, w0=73.11581777164008, w1=13.446956733772023\n",
      "Gradient Descent(5/49): loss=15.40228489526529, w0=73.24049073296567, w1=13.469885724623941\n",
      "Gradient Descent(6/49): loss=15.38736360120863, w0=73.27789262136332, w1=13.476764421879516\n",
      "Gradient Descent(7/49): loss=15.386020684743531, w0=73.28911318788263, w1=13.478828031056189\n",
      "Gradient Descent(8/49): loss=15.385899822261674, w0=73.29247935783842, w1=13.47944711380919\n",
      "Gradient Descent(9/49): loss=15.385888944638307, w0=73.29348920882516, w1=13.47963283863509\n",
      "Gradient Descent(10/49): loss=15.385887965652206, w0=73.29379216412119, w1=13.479688556082861\n",
      "Gradient Descent(11/49): loss=15.385887877543452, w0=73.29388305071, w1=13.479705271317192\n",
      "Gradient Descent(12/49): loss=15.385887869613665, w0=73.29391031668663, w1=13.479710285887492\n",
      "Gradient Descent(13/49): loss=15.385887868899983, w0=73.29391849647962, w1=13.479711790258582\n",
      "Gradient Descent(14/49): loss=15.385887868835754, w0=73.29392095041752, w1=13.479712241569908\n",
      "Gradient Descent(15/49): loss=15.385887868829974, w0=73.29392168659889, w1=13.479712376963306\n",
      "Gradient Descent(16/49): loss=15.385887868829451, w0=73.2939219074533, w1=13.479712417581325\n",
      "Gradient Descent(17/49): loss=15.385887868829403, w0=73.29392197370963, w1=13.479712429766732\n",
      "Gradient Descent(18/49): loss=15.385887868829402, w0=73.29392199358652, w1=13.479712433422353\n",
      "Gradient Descent(19/49): loss=15.385887868829403, w0=73.29392199954958, w1=13.47971243451904\n",
      "Gradient Descent(20/49): loss=15.385887868829398, w0=73.2939220013385, w1=13.479712434848047\n",
      "Gradient Descent(21/49): loss=15.385887868829402, w0=73.29392200187519, w1=13.479712434946748\n",
      "Gradient Descent(22/49): loss=15.385887868829398, w0=73.29392200203618, w1=13.479712434976358\n",
      "Gradient Descent(23/49): loss=15.385887868829403, w0=73.29392200208449, w1=13.479712434985242\n",
      "Gradient Descent(24/49): loss=15.385887868829402, w0=73.29392200209898, w1=13.479712434987906\n",
      "Gradient Descent(25/49): loss=15.385887868829403, w0=73.29392200210333, w1=13.479712434988706\n",
      "Gradient Descent(26/49): loss=15.385887868829402, w0=73.29392200210462, w1=13.479712434988945\n",
      "Gradient Descent(27/49): loss=15.385887868829403, w0=73.29392200210502, w1=13.479712434989018\n",
      "Gradient Descent(28/49): loss=15.385887868829402, w0=73.29392200210513, w1=13.47971243498904\n",
      "Gradient Descent(29/49): loss=15.385887868829403, w0=73.29392200210518, w1=13.479712434989047\n",
      "Gradient Descent(30/49): loss=15.385887868829402, w0=73.29392200210519, w1=13.479712434989048\n",
      "Gradient Descent(31/49): loss=15.385887868829403, w0=73.29392200210519, w1=13.479712434989048\n",
      "Gradient Descent(32/49): loss=15.385887868829403, w0=73.29392200210519, w1=13.479712434989048\n",
      "Gradient Descent(33/49): loss=15.385887868829403, w0=73.29392200210519, w1=13.479712434989048\n",
      "Gradient Descent(34/49): loss=15.385887868829403, w0=73.29392200210519, w1=13.479712434989048\n",
      "Gradient Descent(35/49): loss=15.385887868829403, w0=73.29392200210519, w1=13.479712434989048\n",
      "Gradient Descent(36/49): loss=15.385887868829403, w0=73.29392200210519, w1=13.479712434989048\n",
      "Gradient Descent(37/49): loss=15.385887868829403, w0=73.29392200210519, w1=13.479712434989048\n",
      "Gradient Descent(38/49): loss=15.385887868829403, w0=73.29392200210519, w1=13.479712434989048\n",
      "Gradient Descent(39/49): loss=15.385887868829403, w0=73.29392200210519, w1=13.479712434989048\n",
      "Gradient Descent(40/49): loss=15.385887868829403, w0=73.29392200210519, w1=13.479712434989048\n",
      "Gradient Descent(41/49): loss=15.385887868829403, w0=73.29392200210519, w1=13.479712434989048\n",
      "Gradient Descent(42/49): loss=15.385887868829403, w0=73.29392200210519, w1=13.479712434989048\n",
      "Gradient Descent(43/49): loss=15.385887868829403, w0=73.29392200210519, w1=13.479712434989048\n",
      "Gradient Descent(44/49): loss=15.385887868829403, w0=73.29392200210519, w1=13.479712434989048\n",
      "Gradient Descent(45/49): loss=15.385887868829403, w0=73.29392200210519, w1=13.479712434989048\n",
      "Gradient Descent(46/49): loss=15.385887868829403, w0=73.29392200210519, w1=13.479712434989048\n",
      "Gradient Descent(47/49): loss=15.385887868829403, w0=73.29392200210519, w1=13.479712434989048\n",
      "Gradient Descent(48/49): loss=15.385887868829403, w0=73.29392200210519, w1=13.479712434989048\n",
      "Gradient Descent(49/49): loss=15.385887868829403, w0=73.29392200210519, w1=13.479712434989048\n",
      "Least square: w = [ 73.293922    13.47971243] with loss 15.385887868829398\n",
      "Gradient descent: w = [ 73.293922    13.47971243] with loss 15.385887868829403\n"
     ]
    }
   ],
   "source": [
    "test_your_least_squares()"
   ]
  },
  {
   "cell_type": "markdown",
   "metadata": {},
   "source": [
    "## 1.2 Least squares with a linear basis function model\n",
    "Start from this section, we will use the dataset `dataEx3.csv`.\n",
    "\n",
    "### Implement polynomial basis functions"
   ]
  },
  {
   "cell_type": "code",
   "execution_count": 5,
   "metadata": {
    "scrolled": true
   },
   "outputs": [
    {
     "name": "stdout",
     "output_type": "stream",
     "text": [
      "shape of x (50,)\n",
      "shape of y (50,)\n"
     ]
    }
   ],
   "source": [
    "# load dataset\n",
    "x, y = load_data()\n",
    "print(\"shape of x {}\".format(x.shape))\n",
    "print(\"shape of y {}\".format(y.shape))"
   ]
  },
  {
   "cell_type": "code",
   "execution_count": 107,
   "metadata": {},
   "outputs": [],
   "source": [
    "def build_poly(x, degree):\n",
    "    \"\"\"polynomial basis functions for input data x, for j=0 up to j=degree.\"\"\"\n",
    "    if len(x.shape) > 1:\n",
    "        if x.shape[1] > 1:\n",
    "            raise ValueError('x must be a vector')\n",
    "        x = x.ravel()\n",
    "    \n",
    "    phi = np.zeros((degree + 1, len(x)))\n",
    "    for d in range(degree + 1):\n",
    "        phi[d] = x**d\n",
    "        \n",
    "    return phi.T"
   ]
  },
  {
   "cell_type": "code",
   "execution_count": 108,
   "metadata": {},
   "outputs": [
    {
     "data": {
      "text/plain": [
       "array([[ 1.,  1.,  1.],\n",
       "       [ 1.,  2.,  4.],\n",
       "       [ 1.,  3.,  9.]])"
      ]
     },
     "execution_count": 108,
     "metadata": {},
     "output_type": "execute_result"
    }
   ],
   "source": [
    "build_poly(np.array([1, 2, 3]), 2)"
   ]
  },
  {
   "cell_type": "code",
   "execution_count": 52,
   "metadata": {
    "collapsed": true
   },
   "outputs": [],
   "source": [
    "def compute_rmse(mse):\n",
    "    return np.sqrt(2 * mse)"
   ]
  },
  {
   "cell_type": "markdown",
   "metadata": {},
   "source": [
    "Let us play with polynomial regression. Note that we will use your implemented function `compute_mse`. Please copy and paste your implementation from exercise02."
   ]
  },
  {
   "cell_type": "code",
   "execution_count": 53,
   "metadata": {},
   "outputs": [],
   "source": [
    "from plots import *\n",
    "\n",
    "def polynomial_regression():\n",
    "    \"\"\"Constructing the polynomial basis function expansion of the data,\n",
    "       and then running least squares regression.\"\"\"\n",
    "    # define parameters\n",
    "    degrees = [1, 3, 7, 12]\n",
    "    \n",
    "    # define the structure of the figure\n",
    "    num_row = 2\n",
    "    num_col = 2\n",
    "    f, axs = plt.subplots(num_row, num_col)\n",
    "\n",
    "    for ind, degree in enumerate(degrees):\n",
    "        expanded_x = build_poly(x, degree)\n",
    "        mse, weights = least_squares(y, expanded_x)\n",
    "        rmse = compute_rmse(mse)\n",
    "        \n",
    "        print(\"Processing {i}th experiment, degree={d}, rmse={loss}\".format(\n",
    "              i=ind + 1, d=degree, loss=rmse))\n",
    "        # plot fit\n",
    "        plot_fitted_curve(\n",
    "            y, x, weights, degree, axs[ind // num_col][ind % num_col])\n",
    "    plt.tight_layout()\n",
    "    plt.savefig(\"visualize_polynomial_regression\")\n",
    "    plt.show()"
   ]
  },
  {
   "cell_type": "markdown",
   "metadata": {},
   "source": [
    "Run polynomial regression"
   ]
  },
  {
   "cell_type": "code",
   "execution_count": 54,
   "metadata": {},
   "outputs": [
    {
     "name": "stdout",
     "output_type": "stream",
     "text": [
      "Processing 1th experiment, degree=1, rmse=0.47187607963421874\n",
      "Processing 2th experiment, degree=3, rmse=0.25858277667737484\n",
      "Processing 3th experiment, degree=7, rmse=0.24965870360907355\n",
      "Processing 4th experiment, degree=12, rmse=0.3526250258372488\n"
     ]
    },
    {
     "data": {
      "image/png": "[encoded data removed]",
      "text/plain": [
       "<matplotlib.figure.Figure at 0x114d73940>"
      ]
     },
     "metadata": {},
     "output_type": "display_data"
    }
   ],
   "source": [
    "polynomial_regression()"
   ]
  },
  {
   "cell_type": "markdown",
   "metadata": {},
   "source": [
    "# 2 Evaluating model predication performance\n",
    "\n",
    "\n",
    "Let us show the train and test splits for various polynomial degrees. First of all, please fill in the function `split_data()`"
   ]
  },
  {
   "cell_type": "code",
   "execution_count": 109,
   "metadata": {},
   "outputs": [],
   "source": [
    "def split_data(x, y, ratio, seed=1):\n",
    "    \"\"\"\n",
    "    split the dataset based on the split ratio. If ratio is 0.8 \n",
    "    you will have 80% of your data set dedicated to training \n",
    "    and the rest dedicated to testing\n",
    "    \"\"\"\n",
    "    # Set seed\n",
    "    np.random.seed(seed)\n",
    "    \n",
    "    # Shuffle data\n",
    "    x = x[:, np.newaxis] if len(x.shape) < 2 else x\n",
    "    data = np.append(x, y[:, np.newaxis], axis=1)\n",
    "    np.random.shuffle(data)\n",
    "    x, y = data[:, :-1], data[:, -1:]\n",
    "    \n",
    "    # Make sure there is at least one point in each set\n",
    "    train_idx = int(ratio * len(y))\n",
    "    if train_idx == 0:\n",
    "        train_idx += 1\n",
    "    elif train_idx == len(y) - 1:\n",
    "        train_idx -= 1\n",
    "    \n",
    "    # Split\n",
    "    train_x, train_y = x[:train_idx], y[:train_idx].ravel()\n",
    "    test_x, test_y = x[train_idx:], y[train_idx:].ravel()\n",
    "    \n",
    "    return (train_x, train_y), (test_x, test_y)"
   ]
  },
  {
   "cell_type": "code",
   "execution_count": 110,
   "metadata": {},
   "outputs": [
    {
     "data": {
      "text/plain": [
       "((array([[ 0.,  0.]]), array([ 1.])), (array([[ 0.,  0.]]), array([ 1.])))"
      ]
     },
     "execution_count": 110,
     "metadata": {},
     "output_type": "execute_result"
    }
   ],
   "source": [
    "split_data(np.zeros((2, 2)), np.ones(2), 0.2)"
   ]
  },
  {
   "cell_type": "markdown",
   "metadata": {},
   "source": [
    "Then, test your `split_data` function below."
   ]
  },
  {
   "cell_type": "code",
   "execution_count": 116,
   "metadata": {
    "collapsed": true
   },
   "outputs": [],
   "source": [
    "def train_test_split_demo(x, y, degree, ratio, seed):\n",
    "    \"\"\"polynomial regression with different split ratios and different degrees.\"\"\"\n",
    "    # Split data\n",
    "    (train_x, train_y), (test_x, test_y) = split_data(x, y, ratio)\n",
    "    \n",
    "    # Augment data\n",
    "    train_x_poly = build_poly(train_x, degree)\n",
    "    test_x_poly = build_poly(test_x, degree)\n",
    "    \n",
    "    # Perform Least Square\n",
    "    mse, w = least_squares(train_y, train_x_poly)\n",
    "    \n",
    "    # Compute RMSE\n",
    "    rmse_tr = compute_rmse(mse)\n",
    "    rmse_te = compute_rmse(compute_loss(test_y, test_x_poly, w, error_type='mse'))\n",
    "\n",
    "    print(\"proportion={p}, degree={d}, Training RMSE={tr:.3f}, Testing RMSE={te:.3f}\".format(\n",
    "          p=ratio, d=degree, tr=rmse_tr, te=rmse_te))"
   ]
  },
  {
   "cell_type": "code",
   "execution_count": 115,
   "metadata": {},
   "outputs": [
    {
     "name": "stdout",
     "output_type": "stream",
     "text": [
      "proportion=0.9, degree=1, Training RMSE=0.455, Testing RMSE=0.621\n",
      "proportion=0.9, degree=3, Training RMSE=0.264, Testing RMSE=0.214\n",
      "proportion=0.9, degree=7, Training RMSE=0.257, Testing RMSE=0.189\n",
      "proportion=0.9, degree=12, Training RMSE=0.622, Testing RMSE=0.358\n",
      "proportion=0.5, degree=1, Training RMSE=0.400, Testing RMSE=0.553\n",
      "proportion=0.5, degree=3, Training RMSE=0.237, Testing RMSE=0.306\n",
      "proportion=0.5, degree=7, Training RMSE=0.218, Testing RMSE=0.336\n",
      "proportion=0.5, degree=12, Training RMSE=0.385, Testing RMSE=0.544\n",
      "proportion=0.1, degree=1, Training RMSE=0.453, Testing RMSE=0.748\n",
      "proportion=0.1, degree=3, Training RMSE=0.111, Testing RMSE=0.674\n",
      "proportion=0.1, degree=7, Training RMSE=0.677, Testing RMSE=1.605\n",
      "proportion=0.1, degree=12, Training RMSE=1.730, Testing RMSE=267.383\n"
     ]
    }
   ],
   "source": [
    "seed = 6\n",
    "degrees = [1, 3, 7, 12]\n",
    "split_ratios = [0.9, 0.5, 0.1]\n",
    "\n",
    "for split_ratio in split_ratios:\n",
    "    for degree in degrees:\n",
    "        train_test_split_demo(x, y, degree, split_ratio, seed)"
   ]
  },
  {
   "cell_type": "markdown",
   "metadata": {},
   "source": [
    "# 3 Ridge Regression\n",
    "Please fill in the function below."
   ]
  },
  {
   "cell_type": "code",
   "execution_count": 184,
   "metadata": {},
   "outputs": [],
   "source": [
    "def ridge_regression(y, tx, lambda_):\n",
    "    \"\"\"implement ridge regression.\"\"\"\n",
    "    # Make sure tx is a matrix\n",
    "    tx = tx[:, np.newaxis] if len(tx.shape) == 1 else tx\n",
    "    \n",
    "    prime = 2 * len(y) * lambda_\n",
    "    w = np.linalg.inv(tx.T.dot(tx) + prime * np.identity(tx.shape[1])).dot(tx.T).dot(y)\n",
    "    return compute_loss(y, tx, w, error_type='mse'), w"
   ]
  },
  {
   "cell_type": "code",
   "execution_count": 185,
   "metadata": {
    "collapsed": true
   },
   "outputs": [],
   "source": [
    "def ridge_regression_demo(x, y, degree, ratio, seed):\n",
    "    \"\"\"ridge regression demo.\"\"\"\n",
    "    # define parameter\n",
    "    lambdas = np.logspace(-5, 0, 15)\n",
    "    \n",
    "    # Split data\n",
    "    (train_x, train_y), (test_x, test_y) = split_data(x, y, ratio)\n",
    "    \n",
    "    # Augment data\n",
    "    train_x_poly = build_poly(train_x, degree)\n",
    "    test_x_poly = build_poly(test_x, degree)\n",
    "\n",
    "    rmse_tr = []\n",
    "    rmse_te = []\n",
    "    \n",
    "    for ind, lambda_ in enumerate(lambdas):\n",
    "        mse, w = ridge_regression(train_y, train_x_poly, lambda_)\n",
    "\n",
    "        # Compute RMSE\n",
    "        rmse_tr.append(compute_rmse(mse))\n",
    "        rmse_te.append(compute_rmse(compute_loss(test_y, test_x_poly, w, error_type='mse')))\n",
    "        \n",
    "        print(\"proportion={p}, degree={d}, lambda={l:.3f}, Training RMSE={tr:.3f}, Testing RMSE={te:.3f}\".format(\n",
    "               p=ratio, d=degree, l=lambda_, tr=rmse_tr[ind], te=rmse_te[ind]))\n",
    "        \n",
    "    # Plot the obtained results\n",
    "    plot_train_test(rmse_tr, rmse_te, lambdas, degree)"
   ]
  },
  {
   "cell_type": "code",
   "execution_count": 189,
   "metadata": {},
   "outputs": [
    {
     "name": "stdout",
     "output_type": "stream",
     "text": [
      "proportion=0.5, degree=7, lambda=0.000, Training RMSE=0.220, Testing RMSE=0.319\n",
      "proportion=0.5, degree=7, lambda=0.000, Training RMSE=0.222, Testing RMSE=0.319\n",
      "proportion=0.5, degree=7, lambda=0.000, Training RMSE=0.225, Testing RMSE=0.322\n",
      "proportion=0.5, degree=7, lambda=0.000, Training RMSE=0.226, Testing RMSE=0.325\n",
      "proportion=0.5, degree=7, lambda=0.000, Training RMSE=0.227, Testing RMSE=0.327\n",
      "proportion=0.5, degree=7, lambda=0.001, Training RMSE=0.228, Testing RMSE=0.329\n",
      "proportion=0.5, degree=7, lambda=0.001, Training RMSE=0.228, Testing RMSE=0.329\n",
      "proportion=0.5, degree=7, lambda=0.003, Training RMSE=0.229, Testing RMSE=0.327\n",
      "proportion=0.5, degree=7, lambda=0.007, Training RMSE=0.229, Testing RMSE=0.319\n",
      "proportion=0.5, degree=7, lambda=0.016, Training RMSE=0.232, Testing RMSE=0.302\n",
      "proportion=0.5, degree=7, lambda=0.037, Training RMSE=0.239, Testing RMSE=0.279\n",
      "proportion=0.5, degree=7, lambda=0.085, Training RMSE=0.259, Testing RMSE=0.266\n",
      "proportion=0.5, degree=7, lambda=0.193, Training RMSE=0.297, Testing RMSE=0.294\n",
      "proportion=0.5, degree=7, lambda=0.439, Training RMSE=0.342, Testing RMSE=0.344\n",
      "proportion=0.5, degree=7, lambda=1.000, Training RMSE=0.380, Testing RMSE=0.374\n"
     ]
    },
    {
     "data": {
      "image/png": "[encoded data removed]",
      "text/plain": [
       "<matplotlib.figure.Figure at 0x10a953c50>"
      ]
     },
     "metadata": {},
     "output_type": "display_data"
    }
   ],
   "source": [
    "seed = 56\n",
    "degree = 7\n",
    "split_ratio = 0.5\n",
    "ridge_regression_demo(x, y, degree, split_ratio, seed)"
   ]
  }
 ],
 "metadata": {
  "anaconda-cloud": {},
  "kernelspec": {
   "display_name": "Python 3",
   "language": "python",
   "name": "python3"
  },
  "language_info": {
   "codemirror_mode": {
    "name": "ipython",
    "version": 3
   },
   "file_extension": ".py",
   "mimetype": "text/x-python",
   "name": "python",
   "nbconvert_exporter": "python",
   "pygments_lexer": "ipython3",
   "version": "3.6.2"
  }
 },
 "nbformat": 4,
 "nbformat_minor": 1
}
